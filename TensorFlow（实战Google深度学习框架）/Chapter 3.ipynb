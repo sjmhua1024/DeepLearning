{
 "cells": [
  {
   "cell_type": "code",
   "execution_count": 39,
   "metadata": {},
   "outputs": [
    {
     "name": "stdout",
     "output_type": "stream",
     "text": [
      "After 0 training step(s),cross entropy on all data is 0.0764326\n",
      "After 1000 training step(s),cross entropy on all data is 0.0102338\n",
      "After 2000 training step(s),cross entropy on all data is 0.00360241\n",
      "After 3000 training step(s),cross entropy on all data is 0.00180755\n",
      "After 4000 training step(s),cross entropy on all data is 0.000993838\n"
     ]
    }
   ],
   "source": [
    "import tensorflow as tf\n",
    "import numpy as np\n",
    "\n",
    "x_data = np.float32(np.random.rand(100,2)) #np.random.rand()生成一个n维随机张量，服从[0，1）均匀分布\n",
    "y_data = np.dot(x_data,[0.100,0.200])\n",
    "#y_data = np.dot(x_data,[0.100,0.200])+0.300\n",
    "\n",
    "dataset_size = 100\n",
    "\n",
    "#定义batch的大小\n",
    "#batch_size = 8\n",
    "\n",
    "w1 = tf.Variable(tf.random_normal([2,3]))\n",
    "#b1 = tf.Variable(tf.zeros([1]))\n",
    "w2 = tf.Variable(tf.random_normal([3,1]))\n",
    "#b2 = tf.Variable(tf.zeros([1]))\n",
    "\n",
    "a = tf.matmul(x_data,w1)\n",
    "y = tf.matmul(a,w2)\n",
    "\n",
    "cross_entropy = -tf.reduce_mean(y_data*tf.log(tf.sigmoid(y)))\n",
    "train_step = tf.train.AdamOptimizer(0.001).minimize(cross_entropy)\n",
    "\n",
    "sess = tf.InteractiveSession()\n",
    "#sess = tf.Session()\n",
    "\n",
    "#tf.global_variables_initializer().run()\n",
    "init_op = tf.global_variables_initializer()\n",
    "sess.run(init_op)\n",
    "\n",
    "STEPS = 5000\n",
    "\n",
    "\n",
    "for i in range(STEPS):\n",
    "#start = (i * batch_size) % dataset_size\n",
    "    \n",
    "    sess.run(train_step)\n",
    "    \n",
    "    if i % 1000 ==0:\n",
    "        total_cross_entropy = sess.run(cross_entropy)\n",
    "        print(\"After %d training step(s),cross entropy on all data is %g\" %(i,total_cross_entropy))    \n",
    "\n",
    "sess.close()"
   ]
  },
  {
   "cell_type": "code",
   "execution_count": null,
   "metadata": {
    "collapsed": true
   },
   "outputs": [],
   "source": []
  }
 ],
 "metadata": {
  "kernelspec": {
   "display_name": "Python 3",
   "language": "python",
   "name": "python3"
  },
  "language_info": {
   "codemirror_mode": {
    "name": "ipython",
    "version": 3
   },
   "file_extension": ".py",
   "mimetype": "text/x-python",
   "name": "python",
   "nbconvert_exporter": "python",
   "pygments_lexer": "ipython3",
   "version": "3.6.5"
  }
 },
 "nbformat": 4,
 "nbformat_minor": 2
}
